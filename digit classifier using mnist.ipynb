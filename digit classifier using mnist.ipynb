{
 "cells": [
  {
   "cell_type": "code",
   "execution_count": 1,
   "id": "10b97850",
   "metadata": {},
   "outputs": [],
   "source": [
    "!pip install -Uqq fastbook\n",
    "import fastbook"
   ]
  },
  {
   "cell_type": "code",
   "execution_count": 23,
   "id": "af181e90",
   "metadata": {},
   "outputs": [],
   "source": [
    "from fastbook import *\n",
    "from fastai.vision import *\n",
    "import torch\n",
    "from PIL import Image"
   ]
  },
  {
   "cell_type": "code",
   "execution_count": 6,
   "id": "34d9a94c",
   "metadata": {},
   "outputs": [
    {
     "data": {
      "text/plain": [
       "(#2) [Path('C:/Users/Bisrat worku/.fastai/data/mnist_png/testing'),Path('C:/Users/Bisrat worku/.fastai/data/mnist_png/training')]"
      ]
     },
     "execution_count": 6,
     "metadata": {},
     "output_type": "execute_result"
    }
   ],
   "source": [
    "path = untar_data(URLs.MNIST)\n",
    "path.ls()"
   ]
  },
  {
   "cell_type": "code",
   "execution_count": 64,
   "id": "6b83cae8",
   "metadata": {},
   "outputs": [
    {
     "data": {
      "image/png": "[encoded data removed]",
      "text/plain": [
       "<PIL.PngImagePlugin.PngImageFile image mode=L size=28x28>"
      ]
     },
     "execution_count": 64,
     "metadata": {},
     "output_type": "execute_result"
    }
   ],
   "source": [
    "train = L((path/'training').ls())\n",
    "test = L((path/'testing').ls())\n",
    "Image.open(test[0].ls()[0])"
   ]
  },
  {
   "cell_type": "code",
   "execution_count": 72,
   "id": "681dafbf",
   "metadata": {},
   "outputs": [],
   "source": [
    "class organize:\n",
    "    def __init__(self,file):\n",
    "        self.zero = file[0].ls()\n",
    "        self.one = file[1].ls()\n",
    "        self.two = file[2].ls()\n",
    "        self.three = file[3].ls()\n",
    "        self.four = file[4].ls()\n",
    "        self.five = file[5].ls()\n",
    "        self.six = file[6].ls()\n",
    "        self.seven = file[7].ls()\n",
    "        self.eight = file[8].ls()\n",
    "        self.nine = file[9].ls()"
   ]
  },
  {
   "cell_type": "code",
   "execution_count": 93,
   "id": "4eba363b",
   "metadata": {},
   "outputs": [
    {
     "data": {
      "image/png": "[encoded data removed]",
      "text/plain": [
       "<PIL.PngImagePlugin.PngImageFile image mode=L size=28x28>"
      ]
     },
     "execution_count": 93,
     "metadata": {},
     "output_type": "execute_result"
    }
   ],
   "source": [
    "train_num = organize(train)\n",
    "valid_num = organize(test)\n",
    "Image.open(valid_num.nine[0])"
   ]
  }
 ],
 "metadata": {
  "kernelspec": {
   "display_name": "Python 3 (ipykernel)",
   "language": "python",
   "name": "python3"
  },
  "language_info": {
   "codemirror_mode": {
    "name": "ipython",
    "version": 3
   },
   "file_extension": ".py",
   "mimetype": "text/x-python",
   "name": "python",
   "nbconvert_exporter": "python",
   "pygments_lexer": "ipython3",
   "version": "3.10.9"
  }
 },
 "nbformat": 4,
 "nbformat_minor": 5
}
