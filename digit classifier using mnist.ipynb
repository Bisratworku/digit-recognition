{
 "cells": [
  {
   "cell_type": "code",
   "execution_count": 123,
   "id": "10b97850",
   "metadata": {},
   "outputs": [],
   "source": [
    "!pip install -Uqq fastbook\n",
    "import fastbook"
   ]
  },
  {
   "cell_type": "code",
   "execution_count": 124,
   "id": "2846d41f",
   "metadata": {},
   "outputs": [],
   "source": [
    "from fastbook import *\n",
    "from fastai.vision import *\n",
    "import torch\n",
    "from PIL import Image"
   ]
  },
  {
   "cell_type": "code",
   "execution_count": 125,
   "id": "6ef8a768",
   "metadata": {},
   "outputs": [
    {
     "data": {
      "text/plain": [
       "(#2) [Path('C:/Users/Bisrat worku/.fastai/data/mnist_png/testing'),Path('C:/Users/Bisrat worku/.fastai/data/mnist_png/training')]"
      ]
     },
     "execution_count": 125,
     "metadata": {},
     "output_type": "execute_result"
    }
   ],
   "source": [
    "path = untar_data(URLs.MNIST)\n",
    "path.ls()"
   ]
  },
  {
   "cell_type": "code",
   "execution_count": 126,
   "id": "32ee40f3",
   "metadata": {},
   "outputs": [
    {
     "data": {
      "image/png": "[encoded data removed]",
      "text/plain": [
       "<PIL.PngImagePlugin.PngImageFile image mode=L size=28x28>"
      ]
     },
     "execution_count": 126,
     "metadata": {},
     "output_type": "execute_result"
    }
   ],
   "source": [
    "train = L((path/'training').ls())\n",
    "test = L((path/'testing').ls())\n",
    "Image.open(test[0].ls()[0])"
   ]
  },
  {
   "cell_type": "code",
   "execution_count": 190,
   "id": "0e6a5bfc",
   "metadata": {},
   "outputs": [],
   "source": [
    "class organize:\n",
    "    def __init__(self,file):\n",
    "        self.zero = file[0].ls().sorted()\n",
    "        self.one = file[1].ls().sorted()\n",
    "        self.two = file[2].ls().sorted()\n",
    "        self.three = file[3].ls().sorted()\n",
    "        self.four = file[4].ls().sorted()\n",
    "        self.five = file[5].ls().sorted()\n",
    "        self.six = file[6].ls().sorted()\n",
    "        self.seven = file[7].ls().sorted()\n",
    "        self.eight = file[8].ls().sorted()\n",
    "        self.nine = file[9].ls().sorted()"
   ]
  },
  {
   "cell_type": "code",
   "execution_count": 192,
   "id": "b4084aa5",
   "metadata": {},
   "outputs": [],
   "source": [
    "def ten(f):\n",
    "    t  = [tensor(Image.open(o))for o in f]\n",
    "    return torch.stack(t).float()/255"
   ]
  },
  {
   "cell_type": "code",
   "execution_count": 160,
   "id": "1f661083",
   "metadata": {},
   "outputs": [],
   "source": [
    "t_num = organize(train)\n",
    "v_num = organize(test)"
   ]
  },
  {
   "cell_type": "code",
   "execution_count": 194,
   "id": "ddca3a04",
   "metadata": {},
   "outputs": [],
   "source": [
    "zero = ten(t_num.zero)\n",
    "one = ten(t_num.one)\n",
    "two = ten(t_num.two)\n",
    "three = ten(t_num.three)\n",
    "four = ten(t_num.four)\n",
    "five = ten(t_num.five)\n",
    "six = ten(t_num.six)\n",
    "seven = ten(t_num.seven)\n",
    "eight = ten(t_num.eight)\n",
    "nine = ten(t_num.nine)"
   ]
  },
  {
   "cell_type": "code",
   "execution_count": 203,
   "id": "3facc043",
   "metadata": {},
   "outputs": [
    {
     "data": {
      "text/plain": [
       "5923"
      ]
     },
     "execution_count": 203,
     "metadata": {},
     "output_type": "execute_result"
    }
   ],
   "source": [
    "len(zero)"
   ]
  },
  {
   "cell_type": "code",
   "execution_count": 196,
   "id": "5a850c69",
   "metadata": {},
   "outputs": [],
   "source": [
    "v_zero = ten(v_num.zero)\n",
    "v_one = ten(v_num.one)\n",
    "v_two = ten(v_num.two)\n",
    "v_three =ten(v_num.three)\n",
    "v_four = ten(v_num.four)\n",
    "v_five = ten(v_num.five)\n",
    "v_six = ten(v_num.six)\n",
    "v_seven = ten(v_num.seven)\n",
    "v_eight = ten(v_num.eight)\n",
    "v_nine = ten(v_num.nine)"
   ]
  },
  {
   "cell_type": "code",
   "execution_count": 209,
   "id": "ed4d5dac",
   "metadata": {},
   "outputs": [
    {
     "data": {
      "text/plain": [
       "1135"
      ]
     },
     "execution_count": 209,
     "metadata": {},
     "output_type": "execute_result"
    }
   ],
   "source": [
    "len(v_one)"
   ]
  },
  {
   "cell_type": "code",
   "execution_count": 207,
   "id": "53570295",
   "metadata": {},
   "outputs": [],
   "source": [
    "train_x = torch.cat([zero,one,two,three,four,five,six,seven,eight,nine]).view(-1,28*28)\n",
    "train_y = tensor([0]*len(zero)+[1]*len(one)+[2]*len(two)+[3]*len(three)+[4]*len(four)+[5]*len(five)+[6]*len(six)+[7]*len(seven)+[8]*len(eight)+[9]*len(nine)).unsqueeze(1)"
   ]
  },
  {
   "cell_type": "code",
   "execution_count": 212,
   "id": "dee7c500",
   "metadata": {},
   "outputs": [
    {
     "data": {
      "text/plain": [
       "tensor([[0],\n",
       "        [0],\n",
       "        [0],\n",
       "        [0]])"
      ]
     },
     "execution_count": 212,
     "metadata": {},
     "output_type": "execute_result"
    }
   ],
   "source": [
    "valid_x = torch.cat([v_one,v_two,v_three,v_four,v_five,v_six,v_seven,v_eight,v_nine]).view(-1,28*28)\n",
    "valid_y = tensor([0]*len(v_zero)+[1]*len(v_one)+[2]*len(v_two)+[3]*len(v_three)+[4]*len(v_four)+[5]*len(v_five)+[6]*len(v_six)+[7]*len(v_seven)+[8]*len(v_eight)+[9]*len(v_nine)).unsqueeze(1)\n",
    "valid_y[:4]"
   ]
  },
  {
   "cell_type": "code",
   "execution_count": 215,
   "id": "2161c167",
   "metadata": {},
   "outputs": [],
   "source": [
    "train_dataset = list(zip(train_x,train_y))\n",
    "valid_dataset = list(zip(valid_x,valid_y))"
   ]
  },
  {
   "cell_type": "code",
   "execution_count": 217,
   "id": "16f1728e",
   "metadata": {},
   "outputs": [
    {
     "data": {
      "text/plain": [
       "(torch.Size([784]), tensor([0]))"
      ]
     },
     "execution_count": 217,
     "metadata": {},
     "output_type": "execute_result"
    }
   ],
   "source": [
    "x,y =train_dataset[0]\n",
    "x.shape,y"
   ]
  },
  {
   "cell_type": "code",
   "execution_count": null,
   "id": "679228e6",
   "metadata": {},
   "outputs": [],
   "source": [
    "def init_"
   ]
  }
 ],
 "metadata": {
  "kernelspec": {
   "display_name": "Python 3 (ipykernel)",
   "language": "python",
   "name": "python3"
  },
  "language_info": {
   "codemirror_mode": {
    "name": "ipython",
    "version": 3
   },
   "file_extension": ".py",
   "mimetype": "text/x-python",
   "name": "python",
   "nbconvert_exporter": "python",
   "pygments_lexer": "ipython3",
   "version": "3.10.9"
  }
 },
 "nbformat": 4,
 "nbformat_minor": 5
}
