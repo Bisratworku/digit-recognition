{
 "cells": [
  {
   "cell_type": "code",
   "execution_count": 10,
   "id": "60329a5b",
   "metadata": {},
   "outputs": [],
   "source": [
    "import fastbook\n",
    "from fastbook import *\n",
    "import torch\n",
    "from fastai.vision import *\n",
    "from PIL import Image"
   ]
  },
  {
   "cell_type": "code",
   "execution_count": 22,
   "id": "c736cc08",
   "metadata": {},
   "outputs": [
    {
     "data": {
      "text/plain": [
       "(#3) [Path('C:/Users/Bisrat worku/.fastai/data/mnist_sample/labels.csv'),Path('C:/Users/Bisrat worku/.fastai/data/mnist_sample/train'),Path('C:/Users/Bisrat worku/.fastai/data/mnist_sample/valid')]"
      ]
     },
     "execution_count": 22,
     "metadata": {},
     "output_type": "execute_result"
    }
   ],
   "source": [
    "path = untar_data(URLs.MNIST_SAMPLE)\n",
    "path.ls()"
   ]
  },
  {
   "cell_type": "code",
   "execution_count": 20,
   "id": "118af873",
   "metadata": {},
   "outputs": [
    {
     "data": {
      "image/png": "[encoded data removed]",
      "text/plain": [
       "<PIL.PngImagePlugin.PngImageFile image mode=L size=28x28>"
      ]
     },
     "execution_count": 20,
     "metadata": {},
     "output_type": "execute_result"
    }
   ],
   "source": [
    "three = (path/\"train\"/\"3\").ls()\n",
    "seven = (path/\"train\"/\"7\").ls()\n",
    "Image.open(three[0])"
   ]
  },
  {
   "cell_type": "code",
   "execution_count": 21,
   "id": "19d4e2f3",
   "metadata": {},
   "outputs": [
    {
     "data": {
      "image/png": "[encoded data removed]",
      "text/plain": [
       "<PIL.PngImagePlugin.PngImageFile image mode=L size=28x28>"
      ]
     },
     "execution_count": 21,
     "metadata": {},
     "output_type": "execute_result"
    }
   ],
   "source": [
    "Image.open(seven[0])"
   ]
  },
  {
   "cell_type": "code",
   "execution_count": 25,
   "id": "c576876d",
   "metadata": {},
   "outputs": [
    {
     "data": {
      "image/png": "[encoded data removed]",
      "text/plain": [
       "<PIL.PngImagePlugin.PngImageFile image mode=L size=28x28>"
      ]
     },
     "execution_count": 25,
     "metadata": {},
     "output_type": "execute_result"
    }
   ],
   "source": [
    "val_three = (path/'valid'/'3').ls()\n",
    "val_seven = (path/'valid'/'7').ls()\n",
    "Image.open(val_seven[0])"
   ]
  },
  {
   "cell_type": "code",
   "execution_count": 28,
   "id": "3e6369db",
   "metadata": {},
   "outputs": [],
   "source": [
    "ten_three = [tensor(Image.open(o))for o in three]\n",
    "ten_seven = [tensor(Image.open(o))for o in seven]"
   ]
  },
  {
   "cell_type": "code",
   "execution_count": 32,
   "id": "bc97e25e",
   "metadata": {},
   "outputs": [
    {
     "data": {
      "text/plain": [
       "(<Axes: >, <Axes: >)"
      ]
     },
     "execution_count": 32,
     "metadata": {},
     "output_type": "execute_result"
    },
    {
     "data": {
      "image/png": "[encoded data removed]",
      "text/plain": [
       "<Figure size 100x100 with 1 Axes>"
      ]
     },
     "metadata": {},
     "output_type": "display_data"
    },
    {
     "data": {
      "image/png": "[encoded data removed]",
      "text/plain": [
       "<Figure size 100x100 with 1 Axes>"
      ]
     },
     "metadata": {},
     "output_type": "display_data"
    }
   ],
   "source": [
    "show_image(ten_three[0]),show_image(ten_seven[0])"
   ]
  },
  {
   "cell_type": "code",
   "execution_count": 33,
   "id": "45885b56",
   "metadata": {},
   "outputs": [],
   "source": [
    "ten_val_three = [tensor(Image.open(o))for o in val_three]\n",
    "ten_val_seven = [tensor(Image.open(o))for o in val_seven]"
   ]
  },
  {
   "cell_type": "code",
   "execution_count": 39,
   "id": "a16b10fd",
   "metadata": {},
   "outputs": [],
   "source": [
    "stacked_three = torch.stack(ten_three).float()/255\n",
    "stacked_seven = torch.stack(ten_seven).float()/255"
   ]
  },
  {
   "cell_type": "code",
   "execution_count": 40,
   "id": "c5eaf5d2",
   "metadata": {},
   "outputs": [
    {
     "data": {
      "text/plain": [
       "<Axes: >"
      ]
     },
     "execution_count": 40,
     "metadata": {},
     "output_type": "execute_result"
    },
    {
     "data": {
      "image/png": "[encoded data removed]",
      "text/plain": [
       "<Figure size 100x100 with 1 Axes>"
      ]
     },
     "metadata": {},
     "output_type": "display_data"
    }
   ],
   "source": [
    "stacked_val_three = torch.stack(ten_val_three).float()/255\n",
    "stacked_val_seven = torch.stack(ten_val_seven).float()/255\n",
    "show_image(stacked_val_three[0])"
   ]
  },
  {
   "cell_type": "code",
   "execution_count": 43,
   "id": "02d80549",
   "metadata": {},
   "outputs": [
    {
     "data": {
      "text/plain": [
       "(torch.Size([12396, 784]), torch.Size([12396, 1]))"
      ]
     },
     "execution_count": 43,
     "metadata": {},
     "output_type": "execute_result"
    }
   ],
   "source": [
    "train_x = torch.cat([stacked_three,stacked_seven]).view(-1,28*28)\n",
    "train_y = tensor([1]*len(three)+[0]*len(seven)).unsqueeze(1)\n",
    "train_x.shape,train_y.shape"
   ]
  },
  {
   "cell_type": "code",
   "execution_count": 45,
   "id": "154c7e5a",
   "metadata": {},
   "outputs": [
    {
     "data": {
      "text/plain": [
       "(torch.Size([784]), tensor([1]))"
      ]
     },
     "execution_count": 45,
     "metadata": {},
     "output_type": "execute_result"
    }
   ],
   "source": [
    "train_dataset = list(zip(train_x,train_y))\n",
    "x,y = train_dataset[0]\n",
    "x.shape,y"
   ]
  },
  {
   "cell_type": "code",
   "execution_count": 47,
   "id": "b9ffef3e",
   "metadata": {},
   "outputs": [
    {
     "data": {
      "text/plain": [
       "(torch.Size([12396, 784]), torch.Size([12396, 1]))"
      ]
     },
     "execution_count": 47,
     "metadata": {},
     "output_type": "execute_result"
    }
   ],
   "source": [
    "valid_x = torch.cat([stacked_three,stacked_seven]).view(-1,28*28)\n",
    "valid_y = tensor([1]*len(three) + [0] * len(seven)).unsqueeze(1)\n",
    "valid_x.shape,valid_y.shape"
   ]
  },
  {
   "cell_type": "code",
   "execution_count": 49,
   "id": "db68a7d8",
   "metadata": {},
   "outputs": [
    {
     "data": {
      "text/plain": [
       "(torch.Size([784]), tensor([1]))"
      ]
     },
     "execution_count": 49,
     "metadata": {},
     "output_type": "execute_result"
    }
   ],
   "source": [
    "valid_dataset = list(zip(valid_x,valid_y))\n",
    "x,y = valid_dataset[0]\n",
    "x.shape,y                "
   ]
  },
  {
   "cell_type": "code",
   "execution_count": 55,
   "id": "822fc9be",
   "metadata": {},
   "outputs": [],
   "source": [
    "def init_params(size,std=1):return (torch.randn(size)*std).float().requires_grad_()"
   ]
  },
  {
   "cell_type": "code",
   "execution_count": 56,
   "id": "177c2540",
   "metadata": {},
   "outputs": [],
   "source": [
    "def make_pred(img):return img @ weight + bias"
   ]
  },
  {
   "cell_type": "code",
   "execution_count": 57,
   "id": "5cb37f10",
   "metadata": {},
   "outputs": [],
   "source": [
    "def loss_func(pred,target):\n",
    "    pred = pred.sigmoid()\n",
    "    return torch.where(target == 1 , 1 - pred , pred).mean()"
   ]
  },
  {
   "cell_type": "code",
   "execution_count": 58,
   "id": "9dfc8ae4",
   "metadata": {},
   "outputs": [],
   "source": [
    "def calc_grad(img,target):\n",
    "    pred = make_pred(img)\n",
    "    loss = loss_func(pred,target)\n",
    "    loss.backward()"
   ]
  },
  {
   "cell_type": "code",
   "execution_count": 65,
   "id": "5c673e13",
   "metadata": {},
   "outputs": [
    {
     "data": {
      "text/plain": [
       "50"
      ]
     },
     "execution_count": 65,
     "metadata": {},
     "output_type": "execute_result"
    }
   ],
   "source": [
    "train_dl = DataLoader(train_dataset,batch_size = 250, shuffle = True)\n",
    "valid_dl = DataLoader(valid_dataset,batch_size = 250,shuffle = True)\n",
    "s = list(train_dl)\n",
    "len(s)"
   ]
  },
  {
   "cell_type": "code",
   "execution_count": 80,
   "id": "51ed56c2",
   "metadata": {},
   "outputs": [],
   "source": [
    "weight = init_params((28*28,1))\n",
    "bias = init_params(1)\n",
    "params = weight,bias\n",
    "lr = 1"
   ]
  },
  {
   "cell_type": "code",
   "execution_count": 81,
   "id": "49637a02",
   "metadata": {},
   "outputs": [],
   "source": [
    "def train_epoch(lr,params):\n",
    "    for x,y in train_dl:\n",
    "        calc_grad(x,y)\n",
    "        for p in params:\n",
    "            p.data -= p.grad.data * lr\n",
    "            p.grad.zero_()"
   ]
  },
  {
   "cell_type": "code",
   "execution_count": 70,
   "id": "8ef490c2",
   "metadata": {},
   "outputs": [],
   "source": [
    "def validate(img,label):\n",
    "    pred = make_pred(img).sigmoid()\n",
    "    correct = (pred > 0.5) == label\n",
    "    return correct.float().mean()"
   ]
  },
  {
   "cell_type": "code",
   "execution_count": 87,
   "id": "320ccee4",
   "metadata": {},
   "outputs": [],
   "source": [
    "def valid_epoch():\n",
    "    accurate = torch.stack([validate(x,y)for x,y in valid_dl])\n",
    "    return accurate.float().mean()"
   ]
  },
  {
   "cell_type": "code",
   "execution_count": 88,
   "id": "e74a381c",
   "metadata": {},
   "outputs": [
    {
     "name": "stdout",
     "output_type": "stream",
     "text": [
      "accuracy 0.9679551124572754\n",
      "accuracy 0.9700919985771179\n",
      "accuracy 0.9716810584068298\n",
      "accuracy 0.9735090732574463\n",
      "accuracy 0.9744921326637268\n",
      "accuracy 0.9753950238227844\n",
      "accuracy 0.9768230319023132\n",
      "accuracy 0.9773260354995728\n",
      "accuracy 0.9783890247344971\n",
      "accuracy 0.9788919687271118\n",
      "accuracy 0.9791780710220337\n",
      "accuracy 0.9795429706573486\n",
      "accuracy 0.9798861145973206\n",
      "accuracy 0.9800921082496643\n",
      "accuracy 0.9805030822753906\n",
      "accuracy 0.9804460406303406\n",
      "accuracy 0.9806060791015625\n",
      "accuracy 0.9810861349105835\n",
      "accuracy 0.981109082698822\n",
      "accuracy 0.9813260436058044\n"
     ]
    }
   ],
   "source": [
    "for i in range(20):\n",
    "    train_epoch(lr,params)\n",
    "    print(f'accuracy {valid_epoch()}')"
   ]
  }
 ],
 "metadata": {
  "kernelspec": {
   "display_name": "Python 3 (ipykernel)",
   "language": "python",
   "name": "python3"
  },
  "language_info": {
   "codemirror_mode": {
    "name": "ipython",
    "version": 3
   },
   "file_extension": ".py",
   "mimetype": "text/x-python",
   "name": "python",
   "nbconvert_exporter": "python",
   "pygments_lexer": "ipython3",
   "version": "3.10.9"
  }
 },
 "nbformat": 4,
 "nbformat_minor": 5
}
